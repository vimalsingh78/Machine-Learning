{
 "cells": [
  {
   "cell_type": "markdown",
   "metadata": {},
   "source": [
    "# Model Deployment Tutorial\n",
    "This notebook demonstrates how to deploy a machine learning model using FastAPI.\n",
    "\n## Contents\n1. Train a Simple Model\n2. Model Serialization\n3. Create FastAPI Application\n4. Test API Endpoints"
   ]
  },
  {
   "cell_type": "code",
   "execution_count": null,
   "metadata": {},
   "source": [
    "import numpy as np\n",
    "import pickle\n",
    "from sklearn.datasets import make_classification\n",
    "from sklearn.model_selection import train_test_split\n",
    "from sklearn.ensemble import RandomForestClassifier\n",
    "from fastapi import FastAPI\n",
    "from pydantic import BaseModel"
   ]
  },
  {
   "cell_type": "markdown",
   "metadata": {},
   "source": ["## 1. Train a Simple Model"]
  },
  {
   "cell_type": "code",
   "execution_count": null,
   "metadata": {},
   "source": [
    "# Generate synthetic dataset\n",
    "X, y = make_classification(n_samples=1000, n_features=4, n_classes=2)\n",
    "X_train, X_test, y_train, y_test = train_test_split(X, y, test_size=0.2)\n",
    "\n",
    "# Train model\n",
    "model = RandomForestClassifier(n_estimators=100)\n",
    "model.fit(X_train, y_train)\n",
    "\n",
    "# Evaluate model\n",
    "train_score = model.score(X_train, y_train)\n",
    "test_score = model.score(X_test, y_test)\n",
    "\n",
    "print(f'Training accuracy: {train_score:.4f}')\n",
    "print(f'Testing accuracy: {test_score:.4f}')"
   ]
  },
  {
   "cell_type": "markdown",
   "metadata": {},
   "source": ["## 2. Model Serialization"]
  },
  {
   "cell_type": "code",
   "execution_count": null,
   "metadata": {},
   "source": [
    "def save_model(model, filepath):\n",
    "    with open(filepath, 'wb') as f:\n",
    "        pickle.dump(model, f)\n",
    "\n",
    "def load_model(filepath):\n",
    "    with open(filepath, 'rb') as f:\n",
    "        return pickle.load(f)\n",
    "\n",
    "# Save model\n",
    "save_model(model, 'model.pkl')\n",
    "\n",
    "# Load model (for demonstration)\n",
    "loaded_model = load_model('model.pkl')\n",
    "\n",
    "# Verify loaded model\n",
    "print('Loaded model score:', loaded_model.score(X_test, y_test))"
   ]
  },
  {
   "cell_type": "markdown",
   "metadata": {},
   "source": ["## 3. Create FastAPI Application"]
  },
  {
   "cell_type": "code",
   "execution_count": null,
   "metadata": {},
   "source": [
    "# Define request/response models\n",
    "class PredictionInput(BaseModel):\n",
    "    features: list[float]\n",
    "\n",
    "class PredictionOutput(BaseModel):\n",
    "    prediction: int\n",
    "    probability: float\n",
    "\n",
    "# Create FastAPI app\n",
    "app = FastAPI(title='ML Model API')\n",
    "\n",
    "# Load model globally\n",
    "model = load_model('model.pkl')\n",
    "\n",
    "@app.post('/predict', response_model=PredictionOutput)\n",
    "async def predict(input_data: PredictionInput):\n",
    "    # Convert input to numpy array\n",
    "    features = np.array(input_data.features).reshape(1, -1)\n",
    "    \n",
    "    # Make prediction\n",
    "    prediction = model.predict(features)[0]\n",
    "    probability = model.predict_proba(features).max()\n",
    "    \n",
    "    return PredictionOutput(\n",
    "        prediction=int(prediction),\n",
    "        probability=float(probability)\n",
    "    )"
   ]
  },
  {
   "cell_type": "markdown",
   "metadata": {},
   "source": ["## 4. Test API Endpoint\n",
    "To test the API, you would typically run the FastAPI application using uvicorn:\n",
    "```bash\n",
    "uvicorn app:app --reload\n",
    "```\n",
    "\nThen you can make requests using curl or Python requests:"]
  },
  {
   "cell_type": "code",
   "execution_count": null,
   "metadata": {},
   "source": [
    "import requests\n",
    "\n",
    "# Example request\n",
    "data = {\n",
    "    'features': X_test[0].tolist()\n",
    "}\n",
    "\n",
    "# Make request (uncomment when API is running)\n",
    "# response = requests.post('http://localhost:8000/predict', json=data)\n",
    "# print('API Response:', response.json())"
   ]
  }
 ],
 "metadata": {
  "kernelspec": {
   "display_name": "Python 3",
   "language": "python",
   "name": "python3"
  }
 },
 "nbformat": 4,
 "nbformat_minor": 4
}