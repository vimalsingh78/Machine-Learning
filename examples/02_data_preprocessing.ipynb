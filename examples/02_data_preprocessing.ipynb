{
 "cells": [
  {
   "cell_type": "markdown",
   "metadata": {},
   "source": [
    "# Data Preprocessing Tutorial\n",
    "This notebook demonstrates various data preprocessing techniques essential for machine learning.\n",
    "\n## Contents\n1. Data Loading and Exploration\n2. Feature Scaling\n3. Feature Engineering\n4. Handling Missing Values\n5. Outlier Detection"
   ]
  },
  {
   "cell_type": "code",
   "execution_count": null,
   "metadata": {},
   "source": [
    "import numpy as np\n",
    "import pandas as pd\n",
    "import matplotlib.pyplot as plt\n",
    "import seaborn as sns\n",
    "from sklearn.datasets import load_boston\n",
    "from sklearn.model_selection import train_test_split"
   ]
  },
  {
   "cell_type": "markdown",
   "metadata": {},
   "source": ["## 1. Data Loading and Exploration"]
  },
  {
   "cell_type": "code",
   "execution_count": null,
   "metadata": {},
   "source": [
    "# Load dataset\n",
    "data = load_boston()\n",
    "df = pd.DataFrame(data.data, columns=data.feature_names)\n",
    "df['PRICE'] = data.target\n",
    "\n",
    "# Basic exploration\n",
    "print('Dataset Shape:', df.shape)\n",
    "print('\nFirst few rows:\n', df.head())\n",
    "print('\nBasic statistics:\n', df.describe())\n",
    "\n",
    "# Check for missing values\n",
    "print('\nMissing values:\n', df.isnull().sum())"
   ]
  },
  {
   "cell_type": "markdown",
   "metadata": {},
   "source": ["## 2. Feature Scaling"]
  },
  {
   "cell_type": "code",
   "execution_count": null,
   "metadata": {},
   "source": [
    "def standardize(X):\n",
    "    return (X - X.mean()) / X.std()\n",
    "\n",
    "def min_max_scale(X):\n",
    "    return (X - X.min()) / (X.max() - X.min())\n",
    "\n",
    "# Apply both scaling methods\n",
    "df_standardized = df.copy()\n",
    "df_min_max = df.copy()\n",
    "\n",
    "for column in df.columns:\n",
    "    df_standardized[column] = standardize(df[column])\n",
    "    df_min_max[column] = min_max_scale(df[column])\n",
    "\n",
    "# Visualize the effect of scaling\n",
    "fig, axes = plt.subplots(1, 3, figsize=(15, 5))\n",
    "\n",
    "sns.boxplot(data=df[['RM', 'LSTAT', 'PRICE']], ax=axes[0])\n",
    "axes[0].set_title('Original Data')\n",
    "\n",
    "sns.boxplot(data=df_standardized[['RM', 'LSTAT', 'PRICE']], ax=axes[1])\n",
    "axes[1].set_title('Standardized Data')\n",
    "\n",
    "sns.boxplot(data=df_min_max[['RM', 'LSTAT', 'PRICE']], ax=axes[2])\n",
    "axes[2].set_title('Min-Max Scaled Data')\n",
    "\n",
    "plt.tight_layout()\n",
    "plt.show()"
   ]
  },
  {
   "cell_type": "markdown",
   "metadata": {},
   "source": ["## 3. Feature Engineering"]
  },
  {
   "cell_type": "code",
   "execution_count": null,
   "metadata": {},
   "source": [
    "# Create polynomial features\n",
    "def create_polynomial_features(df, columns, degree=2):\n",
    "    poly_df = df.copy()\n",
    "    \n",
    "    for i in range(len(columns)):\n",
    "        for j in range(i, len(columns)):\n",
    "            col1 = columns[i]\n",
    "            col2 = columns[j]\n",
    "            \n",
    "            # Add interaction term\n",
    "            poly_df[f'{col1}_{col2}_interaction'] = df[col1] * df[col2]\n",
    "            \n",
    "            # Add squared term\n",
    "            if i == j:\n",
    "                poly_df[f'{col1}_squared'] = df[col1] ** 2\n",
    "    \n",
    "    return poly_df\n",
    "\n",
    "# Create interaction terms for selected features\n",
    "selected_features = ['RM', 'LSTAT', 'DIS']\n",
    "df_poly = create_polynomial_features(df, selected_features)\n",
    "\n",
    "print('Original features:', df.columns.tolist())\n",
    "print('\nNew features:', [col for col in df_poly.columns if col not in df.columns])"
   ]
  },
  {
   "cell_type": "markdown",
   "metadata": {},
   "source": ["## 4. Handling Missing Values"]
  },
  {
   "cell_type": "code",
   "execution_count": null,
   "metadata": {},
   "source": [
    "# Create some artificial missing values\n",
    "df_missing = df.copy()\n",
    "df_missing.loc[np.random.choice(df.index, 50), 'RM'] = np.nan\n",
    "df_missing.loc[np.random.choice(df.index, 30), 'LSTAT'] = np.nan\n",
    "\n",
    "# Different strategies for handling missing values\n",
    "def handle_missing_values(df, strategy='mean'):\n",
    "    if strategy == 'mean':\n",
    "        return df.fillna(df.mean())\n",
    "    elif strategy == 'median':\n",
    "        return df.fillna(df.median())\n",
    "    elif strategy == 'drop':\n",
    "        return df.dropna()\n",
    "    \n",
    "# Apply different strategies\n",
    "df_mean = handle_missing_values(df_missing, 'mean')\n",
    "df_median = handle_missing_values(df_missing, 'median')\n",
    "df_dropped = handle_missing_values(df_missing, 'drop')\n",
    "\n",
    "print('Original shape:', df_missing.shape)\n",
    "print('Shape after dropping NA:', df_dropped.shape)"
   ]
  },
  {
   "cell_type": "markdown",
   "metadata": {},
   "source": ["## 5. Outlier Detection"]
  },
  {
   "cell_type": "code",
   "execution_count": null,
   "metadata": {},
   "source": [
    "def detect_outliers(df, columns, n_std=3):\n",
    "    outliers = {}\n",
    "    for column in columns:\n",
    "        mean = df[column].mean()\n",
    "        std = df[column].std()\n",
    "        \n",
    "        outliers[column] = df[\n",
    "            (df[column] < mean - n_std * std) | \n",
    "            (df[column] > mean + n_std * std)\n",
    "        ].index.tolist()\n",
    "    \n",
    "    return outliers\n",
    "\n",
    "# Detect outliers in selected columns\n",
    "outliers = detect_outliers(df, ['RM', 'LSTAT', 'PRICE'])\n",
    "\n",
    "# Visualize outliers\n",
    "fig, axes = plt.subplots(1, 3, figsize=(15, 5))\n",
    "\n",
    "for i, column in enumerate(['RM', 'LSTAT', 'PRICE']):\n",
    "    sns.boxplot(y=df[column], ax=axes[i])\n",
    "    axes[i].set_title(f'Outliers in {column}')\n",
    "    \n",
    "plt.tight_layout()\n",
    "plt.show()\n",
    "\n",
    "for column, indices in outliers.items():\n",
    "    print(f'Number of outliers in {column}: {len(indices)}')"
   ]
  }
 ],
 "metadata": {
  "kernelspec": {
   "display_name": "Python 3",
   "language": "python",
   "name": "python3"
  }
 },
 "nbformat": 4,
 "nbformat_minor": 4
}